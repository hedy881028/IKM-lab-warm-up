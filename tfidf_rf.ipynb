{
 "cells": [
  {
   "cell_type": "code",
   "execution_count": 2,
   "metadata": {},
   "outputs": [],
   "source": [
    "import pandas as pd\n",
    "from sklearn.model_selection import train_test_split\n",
    "from sklearn.feature_extraction.text import TfidfVectorizer"
   ]
  },
  {
   "cell_type": "code",
   "execution_count": 3,
   "metadata": {},
   "outputs": [],
   "source": [
    "t = pd.read_csv('train.csv')\n",
    "t = t.values.tolist()\n",
    "\n",
    "label_t = []\n",
    "for i in t:\n",
    "    label_t.append(i[0])\n",
    "\n",
    "train, val, label_train, label_val = train_test_split(t, label_t, test_size=0.3)\n",
    "\n",
    "test = pd.read_csv('test.csv')\n",
    "test = test.values.tolist()\n",
    "\n",
    "label_test = []\n",
    "for i in test:\n",
    "    label_test.append(i[0])\n",
    "\n",
    "for i in test:\n",
    "    del i[0]"
   ]
  },
  {
   "cell_type": "code",
   "execution_count": 5,
   "metadata": {},
   "outputs": [],
   "source": [
    "# do tf-idf\n",
    "corpus_train = [i[2] for i in train]\n",
    "corpus_val = [i[2] for i in val]\n",
    "corpus_test = [i[1] for i in test]\n",
    "\n",
    "for i in range(len(corpus_train)):\n",
    "    tmp = corpus_train[i].lower()\n",
    "    corpus_train[i] = tmp\n",
    "\n",
    "for i in range(len(corpus_val)):\n",
    "    tmp = corpus_val[i].lower()\n",
    "    corpus_val[i] = tmp\n",
    "\n",
    "for i in range(len(corpus_test)):\n",
    "    tmp = corpus_test[i].lower()\n",
    "    corpus_test[i] = tmp\n",
    "\n",
    "trans = TfidfVectorizer(stop_words='english', sublinear_tf=True)\n",
    "score_train = trans.fit_transform(corpus_train)\n",
    "score_val = trans.transform(corpus_val)\n",
    "score_test = trans.transform(corpus_test)"
   ]
  },
  {
   "cell_type": "code",
   "execution_count": 6,
   "metadata": {},
   "outputs": [
    {
     "name": "stdout",
     "output_type": "stream",
     "text": [
      "              precision    recall  f1-score   support\n",
      "\n",
      "           1       0.88      0.90      0.89      8786\n",
      "           2       0.97      0.91      0.94      9702\n",
      "           3       0.84      0.87      0.85      8746\n",
      "           4       0.84      0.86      0.85      8766\n",
      "\n",
      "    accuracy                           0.88     36000\n",
      "   macro avg       0.88      0.88      0.88     36000\n",
      "weighted avg       0.88      0.88      0.88     36000\n",
      "\n"
     ]
    }
   ],
   "source": [
    "# train and validate\n",
    "from sklearn import ensemble\n",
    "from sklearn.metrics import classification_report\n",
    "\n",
    "model = ensemble.RandomForestClassifier()\n",
    "model.fit(score_train, label_train)\n",
    "predict_val = model.predict(score_val)\n",
    "print(classification_report(predict_val, label_val))"
   ]
  },
  {
   "cell_type": "code",
   "execution_count": 7,
   "metadata": {},
   "outputs": [
    {
     "name": "stdout",
     "output_type": "stream",
     "text": [
      "              precision    recall  f1-score   support\n",
      "\n",
      "           1       0.88      0.90      0.89      1854\n",
      "           2       0.97      0.90      0.93      2053\n",
      "           3       0.84      0.85      0.85      1860\n",
      "           4       0.84      0.87      0.86      1833\n",
      "\n",
      "    accuracy                           0.88      7600\n",
      "   macro avg       0.88      0.88      0.88      7600\n",
      "weighted avg       0.88      0.88      0.88      7600\n",
      "\n"
     ]
    }
   ],
   "source": [
    "# test\n",
    "predict_test = model.predict(score_test)\n",
    "print(classification_report(predict_test, label_test))"
   ]
  }
 ],
 "metadata": {
  "kernelspec": {
   "display_name": "Python 3.8.8 64-bit",
   "language": "python",
   "name": "python3"
  },
  "language_info": {
   "codemirror_mode": {
    "name": "ipython",
    "version": 3
   },
   "file_extension": ".py",
   "mimetype": "text/x-python",
   "name": "python",
   "nbconvert_exporter": "python",
   "pygments_lexer": "ipython3",
   "version": "3.8.8"
  },
  "orig_nbformat": 4,
  "vscode": {
   "interpreter": {
    "hash": "8bfad08b73d8ae58273d7e252c9e1d922058e2a21d3a8ccb2a1b9808ae54a57f"
   }
  }
 },
 "nbformat": 4,
 "nbformat_minor": 2
}
