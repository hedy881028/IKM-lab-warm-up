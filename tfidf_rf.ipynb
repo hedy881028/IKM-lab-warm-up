{
 "cells": [
  {
   "cell_type": "code",
   "execution_count": 25,
   "metadata": {},
   "outputs": [],
   "source": [
    "import pandas as pd\n",
    "from sklearn.model_selection import train_test_split\n",
    "from sklearn.feature_extraction.text import TfidfVectorizer"
   ]
  },
  {
   "cell_type": "code",
   "execution_count": 26,
   "metadata": {},
   "outputs": [],
   "source": [
    "t = pd.read_csv('train.csv')\n",
    "tt= t['Title'].tolist()\n",
    "label_train = t['Class Index']\n",
    "label_train = [i-1 for i in label_train]\n",
    "\n",
    "t = pd.read_csv('test.csv')\n",
    "test = t['Title'].tolist()\n",
    "label_test = t['Class Index']\n",
    "label_test = [i-1 for i in label_test]\n",
    "\n",
    "train, val, label_train, label_val = train_test_split(tt, label_train, test_size=0.3)"
   ]
  },
  {
   "cell_type": "code",
   "execution_count": 27,
   "metadata": {},
   "outputs": [],
   "source": [
    "# do tf-idf\n",
    "for i in train:\n",
    "    i = i.lower()\n",
    "\n",
    "for i in val:\n",
    "    i = i.lower()\n",
    "\n",
    "for i in test:\n",
    "    i = i.lower()\n",
    "\n",
    "trans = TfidfVectorizer(stop_words='english', sublinear_tf=True)\n",
    "score_train = trans.fit_transform(train)\n",
    "score_val = trans.transform(val)\n",
    "score_test = trans.transform(test)"
   ]
  },
  {
   "cell_type": "code",
   "execution_count": 28,
   "metadata": {},
   "outputs": [
    {
     "name": "stdout",
     "output_type": "stream",
     "text": [
      "              precision    recall  f1-score   support\n",
      "\n",
      "           0       0.83      0.87      0.85      8619\n",
      "           1       0.90      0.80      0.85     10025\n",
      "           2       0.78      0.82      0.80      8597\n",
      "           3       0.79      0.81      0.80      8759\n",
      "\n",
      "    accuracy                           0.83     36000\n",
      "   macro avg       0.83      0.83      0.82     36000\n",
      "weighted avg       0.83      0.83      0.83     36000\n",
      "\n"
     ]
    }
   ],
   "source": [
    "# train and validate\n",
    "from sklearn import ensemble\n",
    "from sklearn.metrics import classification_report\n",
    "\n",
    "model = ensemble.RandomForestClassifier()\n",
    "model.fit(score_train, label_train)\n",
    "predict_val = model.predict(score_val)\n",
    "print(classification_report(predict_val, label_val))"
   ]
  },
  {
   "cell_type": "code",
   "execution_count": 29,
   "metadata": {},
   "outputs": [
    {
     "name": "stdout",
     "output_type": "stream",
     "text": [
      "              precision    recall  f1-score   support\n",
      "\n",
      "           0       0.83      0.88      0.85      1804\n",
      "           1       0.90      0.80      0.85      2128\n",
      "           2       0.78      0.82      0.80      1805\n",
      "           3       0.80      0.81      0.80      1863\n",
      "\n",
      "    accuracy                           0.83      7600\n",
      "   macro avg       0.83      0.83      0.83      7600\n",
      "weighted avg       0.83      0.83      0.83      7600\n",
      "\n"
     ]
    }
   ],
   "source": [
    "# test\n",
    "predict_test = model.predict(score_test)\n",
    "print(classification_report(predict_test, label_test))"
   ]
  }
 ],
 "metadata": {
  "kernelspec": {
   "display_name": "Python 3.8.8 64-bit",
   "language": "python",
   "name": "python3"
  },
  "language_info": {
   "codemirror_mode": {
    "name": "ipython",
    "version": 3
   },
   "file_extension": ".py",
   "mimetype": "text/x-python",
   "name": "python",
   "nbconvert_exporter": "python",
   "pygments_lexer": "ipython3",
   "version": "3.8.8"
  },
  "orig_nbformat": 4,
  "vscode": {
   "interpreter": {
    "hash": "8bfad08b73d8ae58273d7e252c9e1d922058e2a21d3a8ccb2a1b9808ae54a57f"
   }
  }
 },
 "nbformat": 4,
 "nbformat_minor": 2
}
